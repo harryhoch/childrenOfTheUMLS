{
 "cells": [
  {
   "cell_type": "code",
   "execution_count": 2,
   "metadata": {},
   "outputs": [],
   "source": [
    "import json\n",
    "import requests\n",
    "\n",
    "\n",
    "class UmlsApi:\n",
    "    granting_ticket = \"\"\n",
    "    username = \"\"\n",
    "    password = \"\"\n",
    "\n",
    "    def __init__(self, username, password):\n",
    "        self.username = username;\n",
    "        self.password = password;\n",
    "        self.setTgT()\n",
    "\n",
    "    def setTgT(self):\n",
    "        data = {'username': self.username, 'password': self.password}\n",
    "        r = requests.post('https://utslogin.nlm.nih.gov/cas/v1/tickets', data)\n",
    "        self.granting_ticket = r.headers['location'].rsplit('/', 1)[-1]\n",
    "        # print(self.granting_ticket)\n",
    "\n",
    "    def getSingleTicket(self):\n",
    "        data = {'service': 'http://umlsks.nlm.nih.gov'}\n",
    "        url = \"https://utslogin.nlm.nih.gov/cas/v1/api-key/{0}\".format(self.granting_ticket)\n",
    "        # print(url)\n",
    "        r = requests.post(url, data)\n",
    "        return r.text\n",
    "\n",
    "    def cuiSearch(self, cui):\n",
    "        ticket = self.getSingleTicket()\n",
    "        url = \"https://uts-ws.nlm.nih.gov/rest/content/current/CUI/{1}?ticket={0}\".format(ticket, cui)\n",
    "        #print(url)\n",
    "        r = requests.get(url)\n",
    "        # print r.text\n",
    "        return r.text\n",
    "\n",
    "    def getRelatedCuis(self, cui, cuis):\n",
    "        cui_search_response_string = self.cuiSearch(cui)\n",
    "        cui_search_response_json = json.loads(cui_search_response_string)\n",
    "        # print(cui_search_response_json)\n",
    "\n",
    "        ticket = self.getSingleTicket()\n",
    "        relation_url = cui_search_response_json['result']['relations'] + \"?/pageSize=1000&ticket={0}\".format(ticket)\n",
    "        # print(relation_url)\n",
    "        relation_response_str = requests.get(relation_url).text\n",
    "        relation_response = json.loads(relation_response_str)\n",
    "\n",
    "        # check if there are any broader relationships\n",
    "        b_has_broad = False\n",
    "        for conceptRelation in relation_response['result']:\n",
    "            if conceptRelation['relationLabel'] == 'RB':\n",
    "                b_has_broad = True\n",
    "                continue\n",
    "\n",
    "        # recurse\n",
    "        if b_has_broad:\n",
    "            for conceptRelation in relation_response['result']:\n",
    "                if conceptRelation['relationLabel'] == 'RB':\n",
    "                    relatedCui = conceptRelation['relatedId'].rsplit('/', 1)[-1]\n",
    "                    self.getRelatedCuis(relatedCui, cuis)\n",
    "\n",
    "        else:\n",
    "            cuis[cui] = cui_search_response_json['result']['name']\n",
    "\n",
    "\n",
    "\n"
   ]
  },
  {
   "cell_type": "code",
   "execution_count": 26,
   "metadata": {},
   "outputs": [],
   "source": [
    "data = {'username': 'harryhoch', 'password': 'pudwallF00bar45'}"
   ]
  },
  {
   "cell_type": "code",
   "execution_count": 27,
   "metadata": {},
   "outputs": [],
   "source": [
    "r = requests.post('https://utslogin.nlm.nih.gov/cas/v1/tickets', data)"
   ]
  },
  {
   "cell_type": "code",
   "execution_count": 28,
   "metadata": {},
   "outputs": [
    {
     "data": {
      "text/plain": [
       "{'Server': 'Apache-Coyote/1.1', 'Cache-Control': 'no-store', 'Location': 'https://utslogin.nlm.nih.gov/cas/v1/tickets/TGT-90366-uqwmBPeQ6mA9Y6lhezTyUsSa4Qn64ovYbDQ3Jsf7rmBMihXDcd-cas', 'Content-Type': 'text/html;charset=UTF-8', 'Content-Length': '373', 'Date': 'Fri, 27 Mar 2020 14:12:33 GMT', 'X-VIP-Info': '130.14.16.164:443', 'X-Pool-Info': '/Common/utslogin_p 10.1.5.113 8080', 'Strict-Transport-Security': 'max-age=31536000; includeSubDomains; preload'}"
      ]
     },
     "execution_count": 28,
     "metadata": {},
     "output_type": "execute_result"
    }
   ],
   "source": [
    "r.headers"
   ]
  },
  {
   "cell_type": "code",
   "execution_count": 29,
   "metadata": {},
   "outputs": [
    {
     "data": {
      "text/plain": [
       "'https://utslogin.nlm.nih.gov/cas/v1/tickets/TGT-90366-uqwmBPeQ6mA9Y6lhezTyUsSa4Qn64ovYbDQ3Jsf7rmBMihXDcd-cas'"
      ]
     },
     "execution_count": 29,
     "metadata": {},
     "output_type": "execute_result"
    }
   ],
   "source": [
    "r.headers['location']"
   ]
  },
  {
   "cell_type": "code",
   "execution_count": 22,
   "metadata": {},
   "outputs": [
    {
     "data": {
      "text/plain": [
       "False"
      ]
     },
     "execution_count": 22,
     "metadata": {},
     "output_type": "execute_result"
    }
   ],
   "source": [
    "'location' in r.headers"
   ]
  },
  {
   "cell_type": "code",
   "execution_count": 32,
   "metadata": {},
   "outputs": [],
   "source": [
    "umlsApi = UmlsApi(\"harryhoch\",\"pudwallF00bar45\")\n",
    "cuis = {}\n",
    "umlsApi.getRelatedCuis(\"C0015967\", cuis)"
   ]
  },
  {
   "cell_type": "code",
   "execution_count": 33,
   "metadata": {},
   "outputs": [
    {
     "data": {
      "text/plain": [
       "{'C1852577': 'FEBRILE CONVULSIONS, FAMILIAL, 1 (disorder)',\n",
       " 'C1858493': 'FEBRILE CONVULSIONS, FAMILIAL, 4',\n",
       " 'C1865342': 'FEBRILE CONVULSIONS, FAMILIAL, 2 (disorder)',\n",
       " 'C0030612': 'Animal Milk Fever',\n",
       " 'C0031069': 'Familial Mediterranean Fever',\n",
       " 'C0235839': 'Fever of the newborn',\n",
       " 'C0239572': 'extreme fever',\n",
       " 'C0239573': 'Fever, high-grade',\n",
       " 'C2199828': 'low-grade fever (99-101 degrees Fahrenheit)',\n",
       " 'C0856281': 'Pyrexia of unknown origin (excl puerperal)',\n",
       " 'C0864638': 'Cerebrospinal fever',\n",
       " 'C1320835': 'Drug-induced hyperpyrexia',\n",
       " 'C1856788': 'Fever, Familial Lifelong Persistent'}"
      ]
     },
     "execution_count": 33,
     "metadata": {},
     "output_type": "execute_result"
    }
   ],
   "source": [
    "cuis"
   ]
  },
  {
   "cell_type": "code",
   "execution_count": 34,
   "metadata": {},
   "outputs": [],
   "source": [
    "r = requests.post('https://utslogin.nlm.nih.gov/cas/v1/tickets', data)"
   ]
  },
  {
   "cell_type": "code",
   "execution_count": 35,
   "metadata": {},
   "outputs": [],
   "source": [
    "granting_ticket = r.headers['location'].rsplit('/', 1)[-1]"
   ]
  },
  {
   "cell_type": "code",
   "execution_count": 36,
   "metadata": {},
   "outputs": [
    {
     "data": {
      "text/plain": [
       "'TGT-90694-jox3nxEHb7ooJT9URbbbP5yiYjYYdEAw2jcRQt0uM9blFICFFq-cas'"
      ]
     },
     "execution_count": 36,
     "metadata": {},
     "output_type": "execute_result"
    }
   ],
   "source": [
    "granting_ticket"
   ]
  },
  {
   "cell_type": "code",
   "execution_count": 62,
   "metadata": {},
   "outputs": [],
   "source": [
    "def getSingleTicket(granting_ticket):\n",
    "        data = {'service': 'http://umlsks.nlm.nih.gov'}\n",
    "        url = \"https://utslogin.nlm.nih.gov/cas/v1/api-key/{0}\".format(granting_ticket)\n",
    "        # print(url)\n",
    "        r = requests.post(url, data)\n",
    "        return r.text"
   ]
  },
  {
   "cell_type": "code",
   "execution_count": 41,
   "metadata": {},
   "outputs": [],
   "source": [
    "singleTicket = getSingleTicket(granting_ticket)"
   ]
  },
  {
   "cell_type": "code",
   "execution_count": 42,
   "metadata": {},
   "outputs": [
    {
     "data": {
      "text/plain": [
       "'ST-1582304-FBfH6SNcpCUaEeIlmm2o-cas'"
      ]
     },
     "execution_count": 42,
     "metadata": {},
     "output_type": "execute_result"
    }
   ],
   "source": [
    "singleTicket"
   ]
  },
  {
   "cell_type": "code",
   "execution_count": 44,
   "metadata": {},
   "outputs": [],
   "source": [
    "url = \"https://uts-ws.nlm.nih.gov/rest/content/current/CUI/{1}?ticket={0}\".format(singleTicket,'C0015967')"
   ]
  },
  {
   "cell_type": "code",
   "execution_count": 45,
   "metadata": {},
   "outputs": [],
   "source": [
    "r =requests.get(url)"
   ]
  },
  {
   "cell_type": "code",
   "execution_count": 46,
   "metadata": {},
   "outputs": [
    {
     "data": {
      "text/plain": [
       "<Response [200]>"
      ]
     },
     "execution_count": 46,
     "metadata": {},
     "output_type": "execute_result"
    }
   ],
   "source": [
    "r"
   ]
  },
  {
   "cell_type": "code",
   "execution_count": 54,
   "metadata": {},
   "outputs": [],
   "source": [
    "cui_search_response_json = json.loads(r.text)"
   ]
  },
  {
   "cell_type": "code",
   "execution_count": 55,
   "metadata": {},
   "outputs": [
    {
     "data": {
      "text/plain": [
       "{'pageSize': 25,\n",
       " 'pageNumber': 1,\n",
       " 'pageCount': 1,\n",
       " 'result': {'classType': 'Concept',\n",
       "  'ui': 'C0015967',\n",
       "  'suppressible': False,\n",
       "  'dateAdded': '09-30-1990',\n",
       "  'majorRevisionDate': '05-20-2019',\n",
       "  'status': 'R',\n",
       "  'semanticTypes': [{'name': 'Sign or Symptom',\n",
       "    'uri': 'https://uts-ws.nlm.nih.gov/rest/semantic-network/2019AB/TUI/T184'}],\n",
       "  'atomCount': 470,\n",
       "  'attributeCount': 0,\n",
       "  'cvMemberCount': 0,\n",
       "  'atoms': 'https://uts-ws.nlm.nih.gov/rest/content/2019AB/CUI/C0015967/atoms',\n",
       "  'definitions': 'https://uts-ws.nlm.nih.gov/rest/content/2019AB/CUI/C0015967/definitions',\n",
       "  'relations': 'https://uts-ws.nlm.nih.gov/rest/content/2019AB/CUI/C0015967/relations',\n",
       "  'defaultPreferredAtom': 'https://uts-ws.nlm.nih.gov/rest/content/2019AB/CUI/C0015967/atoms/preferred',\n",
       "  'relationCount': 34,\n",
       "  'name': 'Fever'}}"
      ]
     },
     "execution_count": 55,
     "metadata": {},
     "output_type": "execute_result"
    }
   ],
   "source": [
    "cui_search_response_json"
   ]
  },
  {
   "cell_type": "code",
   "execution_count": 63,
   "metadata": {},
   "outputs": [],
   "source": [
    "ticket=getSingleTicket(granting_ticket)\n",
    "relation_url = cui_search_response_json['result']['relations'] + \"?/pageSize=1000&ticket={0}\".format(ticket)"
   ]
  },
  {
   "cell_type": "code",
   "execution_count": 64,
   "metadata": {},
   "outputs": [
    {
     "data": {
      "text/plain": [
       "'https://uts-ws.nlm.nih.gov/rest/content/2019AB/CUI/C0015967/relations?/pageSize=1000&ticket=ST-1584385-SbpsG3R3WwNgTCYqKbEh-cas'"
      ]
     },
     "execution_count": 64,
     "metadata": {},
     "output_type": "execute_result"
    }
   ],
   "source": [
    "relation_url"
   ]
  },
  {
   "cell_type": "code",
   "execution_count": 65,
   "metadata": {},
   "outputs": [],
   "source": [
    "relation_response_str = requests.get(relation_url).text"
   ]
  },
  {
   "cell_type": "code",
   "execution_count": 66,
   "metadata": {},
   "outputs": [
    {
     "data": {
      "text/plain": [
       "'{\"pageSize\":25,\"pageNumber\":1,\"pageCount\":2,\"result\":[{\"classType\":\"ConceptRelation\",\"ui\":\"R43968210\",\"suppressible\":false,\"sourceUi\":\"NONE\",\"obsolete\":false,\"sourceOriginated\":false,\"rootSource\":\"MTH\",\"relationLabel\":\"RB\",\"additionalRelationLabel\":\"\",\"groupId\":\"NONE\",\"attributeCount\":0,\"relatedId\":\"https://uts-ws.nlm.nih.gov/rest/content/2019AB/CUI/C0009952\",\"relatedIdName\":\"Febrile Convulsions\"},{\"classType\":\"ConceptRelation\",\"ui\":\"R106413920\",\"suppressible\":false,\"sourceUi\":\"NONE\",\"obsolete\":false,\"sourceOriginated\":false,\"rootSource\":\"MTH\",\"relationLabel\":\"RB\",\"additionalRelationLabel\":\"\",\"groupId\":\"NONE\",\"attributeCount\":0,\"relatedId\":\"https://uts-ws.nlm.nih.gov/rest/content/2019AB/CUI/C0030612\",\"relatedIdName\":\"Animal Milk Fever\"},{\"classType\":\"ConceptRelation\",\"ui\":\"R43968192\",\"suppressible\":false,\"sourceUi\":\"NONE\",\"obsolete\":false,\"sourceOriginated\":false,\"rootSource\":\"MTH\",\"relationLabel\":\"RB\",\"additionalRelationLabel\":\"\",\"groupId\":\"NONE\",\"attributeCount\":0,\"relatedId\":\"https://uts-ws.nlm.nih.gov/rest/content/2019AB/CUI/C0031069\",\"relatedIdName\":\"Familial Mediterranean Fever\"},{\"classType\":\"ConceptRelation\",\"ui\":\"R43968180\",\"suppressible\":false,\"sourceUi\":\"NONE\",\"obsolete\":false,\"sourceOriginated\":false,\"rootSource\":\"MTH\",\"relationLabel\":\"RB\",\"additionalRelationLabel\":\"\",\"groupId\":\"NONE\",\"attributeCount\":0,\"relatedId\":\"https://uts-ws.nlm.nih.gov/rest/content/2019AB/CUI/C0235839\",\"relatedIdName\":\"Fever of the newborn\"},{\"classType\":\"ConceptRelation\",\"ui\":\"R43968214\",\"suppressible\":false,\"sourceUi\":\"NONE\",\"obsolete\":false,\"sourceOriginated\":false,\"rootSource\":\"MTH\",\"relationLabel\":\"RB\",\"additionalRelationLabel\":\"\",\"groupId\":\"NONE\",\"attributeCount\":0,\"relatedId\":\"https://uts-ws.nlm.nih.gov/rest/content/2019AB/CUI/C0239572\",\"relatedIdName\":\"extreme fever\"},{\"classType\":\"ConceptRelation\",\"ui\":\"R43968216\",\"suppressible\":false,\"sourceUi\":\"NONE\",\"obsolete\":false,\"sourceOriginated\":false,\"rootSource\":\"MTH\",\"relationLabel\":\"RB\",\"additionalRelationLabel\":\"\",\"groupId\":\"NONE\",\"attributeCount\":0,\"relatedId\":\"https://uts-ws.nlm.nih.gov/rest/content/2019AB/CUI/C0239573\",\"relatedIdName\":\"Fever, high-grade\"},{\"classType\":\"ConceptRelation\",\"ui\":\"R43968178\",\"suppressible\":false,\"sourceUi\":\"NONE\",\"obsolete\":false,\"sourceOriginated\":false,\"rootSource\":\"MTH\",\"relationLabel\":\"RB\",\"additionalRelationLabel\":\"\",\"groupId\":\"NONE\",\"attributeCount\":0,\"relatedId\":\"https://uts-ws.nlm.nih.gov/rest/content/2019AB/CUI/C0239574\",\"relatedIdName\":\"Low grade fever\"},{\"classType\":\"ConceptRelation\",\"ui\":\"R43968170\",\"suppressible\":false,\"sourceUi\":\"NONE\",\"obsolete\":false,\"sourceOriginated\":false,\"rootSource\":\"MTH\",\"relationLabel\":\"RB\",\"additionalRelationLabel\":\"\",\"groupId\":\"NONE\",\"attributeCount\":0,\"relatedId\":\"https://uts-ws.nlm.nih.gov/rest/content/2019AB/CUI/C0856281\",\"relatedIdName\":\"Pyrexia of unknown origin (excl puerperal)\"},{\"classType\":\"ConceptRelation\",\"ui\":\"R43968168\",\"suppressible\":false,\"sourceUi\":\"NONE\",\"obsolete\":false,\"sourceOriginated\":false,\"rootSource\":\"MTH\",\"relationLabel\":\"RB\",\"additionalRelationLabel\":\"\",\"groupId\":\"NONE\",\"attributeCount\":0,\"relatedId\":\"https://uts-ws.nlm.nih.gov/rest/content/2019AB/CUI/C0864638\",\"relatedIdName\":\"Cerebrospinal fever\"},{\"classType\":\"ConceptRelation\",\"ui\":\"R43968188\",\"suppressible\":false,\"sourceUi\":\"NONE\",\"obsolete\":false,\"sourceOriginated\":false,\"rootSource\":\"MTH\",\"relationLabel\":\"RB\",\"additionalRelationLabel\":\"\",\"groupId\":\"NONE\",\"attributeCount\":0,\"relatedId\":\"https://uts-ws.nlm.nih.gov/rest/content/2019AB/CUI/C1320835\",\"relatedIdName\":\"Drug-induced hyperpyrexia\"},{\"classType\":\"ConceptRelation\",\"ui\":\"R72213690\",\"suppressible\":false,\"sourceUi\":\"NONE\",\"obsolete\":false,\"sourceOriginated\":false,\"rootSource\":\"MTH\",\"relationLabel\":\"RB\",\"additionalRelationLabel\":\"\",\"groupId\":\"NONE\",\"attributeCount\":0,\"relatedId\":\"https://uts-ws.nlm.nih.gov/rest/content/2019AB/CUI/C1856788\",\"relatedIdName\":\"Fever, Familial Lifelong Persistent\"},{\"classType\":\"ConceptRelation\",\"ui\":\"R43968200\",\"suppressible\":false,\"sourceUi\":\"NONE\",\"obsolete\":false,\"sourceOriginated\":false,\"rootSource\":\"MTH\",\"relationLabel\":\"RN\",\"additionalRelationLabel\":\"\",\"groupId\":\"NONE\",\"attributeCount\":0,\"relatedId\":\"https://uts-ws.nlm.nih.gov/rest/content/2019AB/CUI/C0005904\",\"relatedIdName\":\"Body Temperature Changes\"},{\"classType\":\"ConceptRelation\",\"ui\":\"R43968163\",\"suppressible\":false,\"sourceUi\":\"NONE\",\"obsolete\":false,\"sourceOriginated\":false,\"rootSource\":\"MTH\",\"relationLabel\":\"RN\",\"additionalRelationLabel\":\"\",\"groupId\":\"NONE\",\"attributeCount\":0,\"relatedId\":\"https://uts-ws.nlm.nih.gov/rest/content/2019AB/CUI/C0037088\",\"relatedIdName\":\"Signs and Symptoms\"},{\"classType\":\"ConceptRelation\",\"ui\":\"R43968208\",\"suppressible\":false,\"sourceUi\":\"NONE\",\"obsolete\":false,\"sourceOriginated\":false,\"rootSource\":\"MTH\",\"relationLabel\":\"RN\",\"additionalRelationLabel\":\"\",\"groupId\":\"NONE\",\"attributeCount\":0,\"relatedId\":\"https://uts-ws.nlm.nih.gov/rest/content/2019AB/CUI/C0517545\",\"relatedIdName\":\"Impaired mobility: physiological status\"},{\"classType\":\"ConceptRelation\",\"ui\":\"R43968190\",\"suppressible\":false,\"sourceUi\":\"NONE\",\"obsolete\":false,\"sourceOriginated\":false,\"rootSource\":\"MTH\",\"relationLabel\":\"RN\",\"additionalRelationLabel\":\"\",\"groupId\":\"NONE\",\"attributeCount\":0,\"relatedId\":\"https://uts-ws.nlm.nih.gov/rest/content/2019AB/CUI/C0679357\",\"relatedIdName\":\"environmental temperature-related disorder\"},{\"classType\":\"ConceptRelation\",\"ui\":\"R43968159\",\"suppressible\":false,\"sourceUi\":\"NONE\",\"obsolete\":false,\"sourceOriginated\":false,\"rootSource\":\"MTH\",\"relationLabel\":\"RN\",\"additionalRelationLabel\":\"\",\"groupId\":\"NONE\",\"attributeCount\":0,\"relatedId\":\"https://uts-ws.nlm.nih.gov/rest/content/2019AB/CUI/C1457887\",\"relatedIdName\":\"Symptoms\"},{\"classType\":\"ConceptRelation\",\"ui\":\"R43968182\",\"suppressible\":false,\"sourceUi\":\"NONE\",\"obsolete\":false,\"sourceOriginated\":false,\"rootSource\":\"MTH\",\"relationLabel\":\"RO\",\"additionalRelationLabel\":\"\",\"groupId\":\"NONE\",\"attributeCount\":0,\"relatedId\":\"https://uts-ws.nlm.nih.gov/rest/content/2019AB/CUI/C0003209\",\"relatedIdName\":\"Anti-Inflammatory Agents\"},{\"classType\":\"ConceptRelation\",\"ui\":\"R43968184\",\"suppressible\":false,\"sourceUi\":\"NONE\",\"obsolete\":false,\"sourceOriginated\":false,\"rootSource\":\"MTH\",\"relationLabel\":\"RO\",\"additionalRelationLabel\":\"\",\"groupId\":\"NONE\",\"attributeCount\":0,\"relatedId\":\"https://uts-ws.nlm.nih.gov/rest/content/2019AB/CUI/C0003211\",\"relatedIdName\":\"Anti-Inflammatory Agents, Non-Steroidal\"},{\"classType\":\"ConceptRelation\",\"ui\":\"R43968198\",\"suppressible\":false,\"sourceUi\":\"NONE\",\"obsolete\":false,\"sourceOriginated\":false,\"rootSource\":\"MTH\",\"relationLabel\":\"RO\",\"additionalRelationLabel\":\"\",\"groupId\":\"NONE\",\"attributeCount\":0,\"relatedId\":\"https://uts-ws.nlm.nih.gov/rest/content/2019AB/CUI/C0005903\",\"relatedIdName\":\"Body Temperature\"},{\"classType\":\"ConceptRelation\",\"ui\":\"R43968186\",\"suppressible\":false,\"sourceUi\":\"NONE\",\"obsolete\":false,\"sourceOriginated\":false,\"rootSource\":\"MTH\",\"relationLabel\":\"RO\",\"additionalRelationLabel\":\"\",\"groupId\":\"NONE\",\"attributeCount\":0,\"relatedId\":\"https://uts-ws.nlm.nih.gov/rest/content/2019AB/CUI/C0005905\",\"relatedIdName\":\"Physiologic Thermoregulation\"},{\"classType\":\"ConceptRelation\",\"ui\":\"R43968172\",\"suppressible\":false,\"sourceUi\":\"NONE\",\"obsolete\":false,\"sourceOriginated\":false,\"rootSource\":\"MTH\",\"relationLabel\":\"RO\",\"additionalRelationLabel\":\"\",\"groupId\":\"NONE\",\"attributeCount\":0,\"relatedId\":\"https://uts-ws.nlm.nih.gov/rest/content/2019AB/CUI/C0024591\",\"relatedIdName\":\"Malignant hyperpyrexia due to anesthesia\"},{\"classType\":\"ConceptRelation\",\"ui\":\"R43968218\",\"suppressible\":false,\"sourceUi\":\"NONE\",\"obsolete\":false,\"sourceOriginated\":false,\"rootSource\":\"MTH\",\"relationLabel\":\"RO\",\"additionalRelationLabel\":\"\",\"groupId\":\"NONE\",\"attributeCount\":0,\"relatedId\":\"https://uts-ws.nlm.nih.gov/rest/content/2019AB/CUI/C0029631\",\"relatedIdName\":\"Other heat therapy\"},{\"classType\":\"ConceptRelation\",\"ui\":\"R43968161\",\"suppressible\":false,\"sourceUi\":\"NONE\",\"obsolete\":false,\"sourceOriginated\":false,\"rootSource\":\"MTH\",\"relationLabel\":\"RO\",\"additionalRelationLabel\":\"\",\"groupId\":\"NONE\",\"attributeCount\":0,\"relatedId\":\"https://uts-ws.nlm.nih.gov/rest/content/2019AB/CUI/C0034304\",\"relatedIdName\":\"Pyrogens\"},{\"classType\":\"ConceptRelation\",\"ui\":\"R43968176\",\"suppressible\":false,\"sourceUi\":\"NONE\",\"obsolete\":false,\"sourceOriginated\":false,\"rootSource\":\"MTH\",\"relationLabel\":\"RO\",\"additionalRelationLabel\":\"\",\"groupId\":\"NONE\",\"attributeCount\":0,\"relatedId\":\"https://uts-ws.nlm.nih.gov/rest/content/2019AB/CUI/C0150234\",\"relatedIdName\":\"Treatment of fever\"},{\"classType\":\"ConceptRelation\",\"ui\":\"R03057699\",\"suppressible\":false,\"sourceUi\":\"NONE\",\"obsolete\":false,\"sourceOriginated\":false,\"rootSource\":\"MTH\",\"relationLabel\":\"RO\",\"additionalRelationLabel\":\"\",\"groupId\":\"NONE\",\"attributeCount\":0,\"relatedId\":\"https://uts-ws.nlm.nih.gov/rest/content/2019AB/CUI/C0203597\",\"relatedIdName\":\"hyperthermia treatment\"}]}'"
      ]
     },
     "execution_count": 66,
     "metadata": {},
     "output_type": "execute_result"
    }
   ],
   "source": [
    "relation_response_str"
   ]
  },
  {
   "cell_type": "code",
   "execution_count": 68,
   "metadata": {},
   "outputs": [],
   "source": [
    "relation_response = json.loads(relation_response_str)"
   ]
  },
  {
   "cell_type": "code",
   "execution_count": 70,
   "metadata": {},
   "outputs": [],
   "source": [
    "res = relation_response['result']"
   ]
  },
  {
   "cell_type": "code",
   "execution_count": 71,
   "metadata": {},
   "outputs": [
    {
     "data": {
      "text/plain": [
       "[{'classType': 'ConceptRelation',\n",
       "  'ui': 'R43968210',\n",
       "  'suppressible': False,\n",
       "  'sourceUi': 'NONE',\n",
       "  'obsolete': False,\n",
       "  'sourceOriginated': False,\n",
       "  'rootSource': 'MTH',\n",
       "  'relationLabel': 'RB',\n",
       "  'additionalRelationLabel': '',\n",
       "  'groupId': 'NONE',\n",
       "  'attributeCount': 0,\n",
       "  'relatedId': 'https://uts-ws.nlm.nih.gov/rest/content/2019AB/CUI/C0009952',\n",
       "  'relatedIdName': 'Febrile Convulsions'},\n",
       " {'classType': 'ConceptRelation',\n",
       "  'ui': 'R106413920',\n",
       "  'suppressible': False,\n",
       "  'sourceUi': 'NONE',\n",
       "  'obsolete': False,\n",
       "  'sourceOriginated': False,\n",
       "  'rootSource': 'MTH',\n",
       "  'relationLabel': 'RB',\n",
       "  'additionalRelationLabel': '',\n",
       "  'groupId': 'NONE',\n",
       "  'attributeCount': 0,\n",
       "  'relatedId': 'https://uts-ws.nlm.nih.gov/rest/content/2019AB/CUI/C0030612',\n",
       "  'relatedIdName': 'Animal Milk Fever'},\n",
       " {'classType': 'ConceptRelation',\n",
       "  'ui': 'R43968192',\n",
       "  'suppressible': False,\n",
       "  'sourceUi': 'NONE',\n",
       "  'obsolete': False,\n",
       "  'sourceOriginated': False,\n",
       "  'rootSource': 'MTH',\n",
       "  'relationLabel': 'RB',\n",
       "  'additionalRelationLabel': '',\n",
       "  'groupId': 'NONE',\n",
       "  'attributeCount': 0,\n",
       "  'relatedId': 'https://uts-ws.nlm.nih.gov/rest/content/2019AB/CUI/C0031069',\n",
       "  'relatedIdName': 'Familial Mediterranean Fever'},\n",
       " {'classType': 'ConceptRelation',\n",
       "  'ui': 'R43968180',\n",
       "  'suppressible': False,\n",
       "  'sourceUi': 'NONE',\n",
       "  'obsolete': False,\n",
       "  'sourceOriginated': False,\n",
       "  'rootSource': 'MTH',\n",
       "  'relationLabel': 'RB',\n",
       "  'additionalRelationLabel': '',\n",
       "  'groupId': 'NONE',\n",
       "  'attributeCount': 0,\n",
       "  'relatedId': 'https://uts-ws.nlm.nih.gov/rest/content/2019AB/CUI/C0235839',\n",
       "  'relatedIdName': 'Fever of the newborn'},\n",
       " {'classType': 'ConceptRelation',\n",
       "  'ui': 'R43968214',\n",
       "  'suppressible': False,\n",
       "  'sourceUi': 'NONE',\n",
       "  'obsolete': False,\n",
       "  'sourceOriginated': False,\n",
       "  'rootSource': 'MTH',\n",
       "  'relationLabel': 'RB',\n",
       "  'additionalRelationLabel': '',\n",
       "  'groupId': 'NONE',\n",
       "  'attributeCount': 0,\n",
       "  'relatedId': 'https://uts-ws.nlm.nih.gov/rest/content/2019AB/CUI/C0239572',\n",
       "  'relatedIdName': 'extreme fever'},\n",
       " {'classType': 'ConceptRelation',\n",
       "  'ui': 'R43968216',\n",
       "  'suppressible': False,\n",
       "  'sourceUi': 'NONE',\n",
       "  'obsolete': False,\n",
       "  'sourceOriginated': False,\n",
       "  'rootSource': 'MTH',\n",
       "  'relationLabel': 'RB',\n",
       "  'additionalRelationLabel': '',\n",
       "  'groupId': 'NONE',\n",
       "  'attributeCount': 0,\n",
       "  'relatedId': 'https://uts-ws.nlm.nih.gov/rest/content/2019AB/CUI/C0239573',\n",
       "  'relatedIdName': 'Fever, high-grade'},\n",
       " {'classType': 'ConceptRelation',\n",
       "  'ui': 'R43968178',\n",
       "  'suppressible': False,\n",
       "  'sourceUi': 'NONE',\n",
       "  'obsolete': False,\n",
       "  'sourceOriginated': False,\n",
       "  'rootSource': 'MTH',\n",
       "  'relationLabel': 'RB',\n",
       "  'additionalRelationLabel': '',\n",
       "  'groupId': 'NONE',\n",
       "  'attributeCount': 0,\n",
       "  'relatedId': 'https://uts-ws.nlm.nih.gov/rest/content/2019AB/CUI/C0239574',\n",
       "  'relatedIdName': 'Low grade fever'},\n",
       " {'classType': 'ConceptRelation',\n",
       "  'ui': 'R43968170',\n",
       "  'suppressible': False,\n",
       "  'sourceUi': 'NONE',\n",
       "  'obsolete': False,\n",
       "  'sourceOriginated': False,\n",
       "  'rootSource': 'MTH',\n",
       "  'relationLabel': 'RB',\n",
       "  'additionalRelationLabel': '',\n",
       "  'groupId': 'NONE',\n",
       "  'attributeCount': 0,\n",
       "  'relatedId': 'https://uts-ws.nlm.nih.gov/rest/content/2019AB/CUI/C0856281',\n",
       "  'relatedIdName': 'Pyrexia of unknown origin (excl puerperal)'},\n",
       " {'classType': 'ConceptRelation',\n",
       "  'ui': 'R43968168',\n",
       "  'suppressible': False,\n",
       "  'sourceUi': 'NONE',\n",
       "  'obsolete': False,\n",
       "  'sourceOriginated': False,\n",
       "  'rootSource': 'MTH',\n",
       "  'relationLabel': 'RB',\n",
       "  'additionalRelationLabel': '',\n",
       "  'groupId': 'NONE',\n",
       "  'attributeCount': 0,\n",
       "  'relatedId': 'https://uts-ws.nlm.nih.gov/rest/content/2019AB/CUI/C0864638',\n",
       "  'relatedIdName': 'Cerebrospinal fever'},\n",
       " {'classType': 'ConceptRelation',\n",
       "  'ui': 'R43968188',\n",
       "  'suppressible': False,\n",
       "  'sourceUi': 'NONE',\n",
       "  'obsolete': False,\n",
       "  'sourceOriginated': False,\n",
       "  'rootSource': 'MTH',\n",
       "  'relationLabel': 'RB',\n",
       "  'additionalRelationLabel': '',\n",
       "  'groupId': 'NONE',\n",
       "  'attributeCount': 0,\n",
       "  'relatedId': 'https://uts-ws.nlm.nih.gov/rest/content/2019AB/CUI/C1320835',\n",
       "  'relatedIdName': 'Drug-induced hyperpyrexia'},\n",
       " {'classType': 'ConceptRelation',\n",
       "  'ui': 'R72213690',\n",
       "  'suppressible': False,\n",
       "  'sourceUi': 'NONE',\n",
       "  'obsolete': False,\n",
       "  'sourceOriginated': False,\n",
       "  'rootSource': 'MTH',\n",
       "  'relationLabel': 'RB',\n",
       "  'additionalRelationLabel': '',\n",
       "  'groupId': 'NONE',\n",
       "  'attributeCount': 0,\n",
       "  'relatedId': 'https://uts-ws.nlm.nih.gov/rest/content/2019AB/CUI/C1856788',\n",
       "  'relatedIdName': 'Fever, Familial Lifelong Persistent'},\n",
       " {'classType': 'ConceptRelation',\n",
       "  'ui': 'R43968200',\n",
       "  'suppressible': False,\n",
       "  'sourceUi': 'NONE',\n",
       "  'obsolete': False,\n",
       "  'sourceOriginated': False,\n",
       "  'rootSource': 'MTH',\n",
       "  'relationLabel': 'RN',\n",
       "  'additionalRelationLabel': '',\n",
       "  'groupId': 'NONE',\n",
       "  'attributeCount': 0,\n",
       "  'relatedId': 'https://uts-ws.nlm.nih.gov/rest/content/2019AB/CUI/C0005904',\n",
       "  'relatedIdName': 'Body Temperature Changes'},\n",
       " {'classType': 'ConceptRelation',\n",
       "  'ui': 'R43968163',\n",
       "  'suppressible': False,\n",
       "  'sourceUi': 'NONE',\n",
       "  'obsolete': False,\n",
       "  'sourceOriginated': False,\n",
       "  'rootSource': 'MTH',\n",
       "  'relationLabel': 'RN',\n",
       "  'additionalRelationLabel': '',\n",
       "  'groupId': 'NONE',\n",
       "  'attributeCount': 0,\n",
       "  'relatedId': 'https://uts-ws.nlm.nih.gov/rest/content/2019AB/CUI/C0037088',\n",
       "  'relatedIdName': 'Signs and Symptoms'},\n",
       " {'classType': 'ConceptRelation',\n",
       "  'ui': 'R43968208',\n",
       "  'suppressible': False,\n",
       "  'sourceUi': 'NONE',\n",
       "  'obsolete': False,\n",
       "  'sourceOriginated': False,\n",
       "  'rootSource': 'MTH',\n",
       "  'relationLabel': 'RN',\n",
       "  'additionalRelationLabel': '',\n",
       "  'groupId': 'NONE',\n",
       "  'attributeCount': 0,\n",
       "  'relatedId': 'https://uts-ws.nlm.nih.gov/rest/content/2019AB/CUI/C0517545',\n",
       "  'relatedIdName': 'Impaired mobility: physiological status'},\n",
       " {'classType': 'ConceptRelation',\n",
       "  'ui': 'R43968190',\n",
       "  'suppressible': False,\n",
       "  'sourceUi': 'NONE',\n",
       "  'obsolete': False,\n",
       "  'sourceOriginated': False,\n",
       "  'rootSource': 'MTH',\n",
       "  'relationLabel': 'RN',\n",
       "  'additionalRelationLabel': '',\n",
       "  'groupId': 'NONE',\n",
       "  'attributeCount': 0,\n",
       "  'relatedId': 'https://uts-ws.nlm.nih.gov/rest/content/2019AB/CUI/C0679357',\n",
       "  'relatedIdName': 'environmental temperature-related disorder'},\n",
       " {'classType': 'ConceptRelation',\n",
       "  'ui': 'R43968159',\n",
       "  'suppressible': False,\n",
       "  'sourceUi': 'NONE',\n",
       "  'obsolete': False,\n",
       "  'sourceOriginated': False,\n",
       "  'rootSource': 'MTH',\n",
       "  'relationLabel': 'RN',\n",
       "  'additionalRelationLabel': '',\n",
       "  'groupId': 'NONE',\n",
       "  'attributeCount': 0,\n",
       "  'relatedId': 'https://uts-ws.nlm.nih.gov/rest/content/2019AB/CUI/C1457887',\n",
       "  'relatedIdName': 'Symptoms'},\n",
       " {'classType': 'ConceptRelation',\n",
       "  'ui': 'R43968182',\n",
       "  'suppressible': False,\n",
       "  'sourceUi': 'NONE',\n",
       "  'obsolete': False,\n",
       "  'sourceOriginated': False,\n",
       "  'rootSource': 'MTH',\n",
       "  'relationLabel': 'RO',\n",
       "  'additionalRelationLabel': '',\n",
       "  'groupId': 'NONE',\n",
       "  'attributeCount': 0,\n",
       "  'relatedId': 'https://uts-ws.nlm.nih.gov/rest/content/2019AB/CUI/C0003209',\n",
       "  'relatedIdName': 'Anti-Inflammatory Agents'},\n",
       " {'classType': 'ConceptRelation',\n",
       "  'ui': 'R43968184',\n",
       "  'suppressible': False,\n",
       "  'sourceUi': 'NONE',\n",
       "  'obsolete': False,\n",
       "  'sourceOriginated': False,\n",
       "  'rootSource': 'MTH',\n",
       "  'relationLabel': 'RO',\n",
       "  'additionalRelationLabel': '',\n",
       "  'groupId': 'NONE',\n",
       "  'attributeCount': 0,\n",
       "  'relatedId': 'https://uts-ws.nlm.nih.gov/rest/content/2019AB/CUI/C0003211',\n",
       "  'relatedIdName': 'Anti-Inflammatory Agents, Non-Steroidal'},\n",
       " {'classType': 'ConceptRelation',\n",
       "  'ui': 'R43968198',\n",
       "  'suppressible': False,\n",
       "  'sourceUi': 'NONE',\n",
       "  'obsolete': False,\n",
       "  'sourceOriginated': False,\n",
       "  'rootSource': 'MTH',\n",
       "  'relationLabel': 'RO',\n",
       "  'additionalRelationLabel': '',\n",
       "  'groupId': 'NONE',\n",
       "  'attributeCount': 0,\n",
       "  'relatedId': 'https://uts-ws.nlm.nih.gov/rest/content/2019AB/CUI/C0005903',\n",
       "  'relatedIdName': 'Body Temperature'},\n",
       " {'classType': 'ConceptRelation',\n",
       "  'ui': 'R43968186',\n",
       "  'suppressible': False,\n",
       "  'sourceUi': 'NONE',\n",
       "  'obsolete': False,\n",
       "  'sourceOriginated': False,\n",
       "  'rootSource': 'MTH',\n",
       "  'relationLabel': 'RO',\n",
       "  'additionalRelationLabel': '',\n",
       "  'groupId': 'NONE',\n",
       "  'attributeCount': 0,\n",
       "  'relatedId': 'https://uts-ws.nlm.nih.gov/rest/content/2019AB/CUI/C0005905',\n",
       "  'relatedIdName': 'Physiologic Thermoregulation'},\n",
       " {'classType': 'ConceptRelation',\n",
       "  'ui': 'R43968172',\n",
       "  'suppressible': False,\n",
       "  'sourceUi': 'NONE',\n",
       "  'obsolete': False,\n",
       "  'sourceOriginated': False,\n",
       "  'rootSource': 'MTH',\n",
       "  'relationLabel': 'RO',\n",
       "  'additionalRelationLabel': '',\n",
       "  'groupId': 'NONE',\n",
       "  'attributeCount': 0,\n",
       "  'relatedId': 'https://uts-ws.nlm.nih.gov/rest/content/2019AB/CUI/C0024591',\n",
       "  'relatedIdName': 'Malignant hyperpyrexia due to anesthesia'},\n",
       " {'classType': 'ConceptRelation',\n",
       "  'ui': 'R43968218',\n",
       "  'suppressible': False,\n",
       "  'sourceUi': 'NONE',\n",
       "  'obsolete': False,\n",
       "  'sourceOriginated': False,\n",
       "  'rootSource': 'MTH',\n",
       "  'relationLabel': 'RO',\n",
       "  'additionalRelationLabel': '',\n",
       "  'groupId': 'NONE',\n",
       "  'attributeCount': 0,\n",
       "  'relatedId': 'https://uts-ws.nlm.nih.gov/rest/content/2019AB/CUI/C0029631',\n",
       "  'relatedIdName': 'Other heat therapy'},\n",
       " {'classType': 'ConceptRelation',\n",
       "  'ui': 'R43968161',\n",
       "  'suppressible': False,\n",
       "  'sourceUi': 'NONE',\n",
       "  'obsolete': False,\n",
       "  'sourceOriginated': False,\n",
       "  'rootSource': 'MTH',\n",
       "  'relationLabel': 'RO',\n",
       "  'additionalRelationLabel': '',\n",
       "  'groupId': 'NONE',\n",
       "  'attributeCount': 0,\n",
       "  'relatedId': 'https://uts-ws.nlm.nih.gov/rest/content/2019AB/CUI/C0034304',\n",
       "  'relatedIdName': 'Pyrogens'},\n",
       " {'classType': 'ConceptRelation',\n",
       "  'ui': 'R43968176',\n",
       "  'suppressible': False,\n",
       "  'sourceUi': 'NONE',\n",
       "  'obsolete': False,\n",
       "  'sourceOriginated': False,\n",
       "  'rootSource': 'MTH',\n",
       "  'relationLabel': 'RO',\n",
       "  'additionalRelationLabel': '',\n",
       "  'groupId': 'NONE',\n",
       "  'attributeCount': 0,\n",
       "  'relatedId': 'https://uts-ws.nlm.nih.gov/rest/content/2019AB/CUI/C0150234',\n",
       "  'relatedIdName': 'Treatment of fever'},\n",
       " {'classType': 'ConceptRelation',\n",
       "  'ui': 'R03057699',\n",
       "  'suppressible': False,\n",
       "  'sourceUi': 'NONE',\n",
       "  'obsolete': False,\n",
       "  'sourceOriginated': False,\n",
       "  'rootSource': 'MTH',\n",
       "  'relationLabel': 'RO',\n",
       "  'additionalRelationLabel': '',\n",
       "  'groupId': 'NONE',\n",
       "  'attributeCount': 0,\n",
       "  'relatedId': 'https://uts-ws.nlm.nih.gov/rest/content/2019AB/CUI/C0203597',\n",
       "  'relatedIdName': 'hyperthermia treatment'}]"
      ]
     },
     "execution_count": 71,
     "metadata": {},
     "output_type": "execute_result"
    }
   ],
   "source": [
    "res"
   ]
  },
  {
   "cell_type": "code",
   "execution_count": 72,
   "metadata": {},
   "outputs": [
    {
     "data": {
      "text/plain": [
       "{'classType': 'ConceptRelation',\n",
       " 'ui': 'R43968210',\n",
       " 'suppressible': False,\n",
       " 'sourceUi': 'NONE',\n",
       " 'obsolete': False,\n",
       " 'sourceOriginated': False,\n",
       " 'rootSource': 'MTH',\n",
       " 'relationLabel': 'RB',\n",
       " 'additionalRelationLabel': '',\n",
       " 'groupId': 'NONE',\n",
       " 'attributeCount': 0,\n",
       " 'relatedId': 'https://uts-ws.nlm.nih.gov/rest/content/2019AB/CUI/C0009952',\n",
       " 'relatedIdName': 'Febrile Convulsions'}"
      ]
     },
     "execution_count": 72,
     "metadata": {},
     "output_type": "execute_result"
    }
   ],
   "source": [
    "res[0]"
   ]
  },
  {
   "cell_type": "code",
   "execution_count": 102,
   "metadata": {},
   "outputs": [],
   "source": [
    "import json\n",
    "import requests\n",
    "\n",
    "\n",
    "class UmlsApi:\n",
    "    granting_ticket = \"\"\n",
    "    username = \"\"\n",
    "    password = \"\"\n",
    "\n",
    "    def __init__(self, username, password):\n",
    "        self.username = username;\n",
    "        self.password = password;\n",
    "        self.setTgT()\n",
    "\n",
    "    def setTgT(self):\n",
    "        data = {'username': self.username, 'password': self.password}\n",
    "        r = requests.post('https://utslogin.nlm.nih.gov/cas/v1/tickets', data)\n",
    "        self.granting_ticket = r.headers['location'].rsplit('/', 1)[-1]\n",
    "        # print(self.granting_ticket)\n",
    "\n",
    "    def getSingleTicket(self):\n",
    "        data = {'service': 'http://umlsks.nlm.nih.gov'}\n",
    "        url = \"https://utslogin.nlm.nih.gov/cas/v1/api-key/{0}\".format(self.granting_ticket)\n",
    "        # print(url)\n",
    "        r = requests.post(url, data)\n",
    "        return r.text\n",
    "\n",
    "    def cuiSearch(self, cui):\n",
    "        ticket = self.getSingleTicket()\n",
    "        url = \"https://uts-ws.nlm.nih.gov/rest/content/current/CUI/{1}?ticket={0}\".format(ticket, cui)\n",
    "        #print(url)\n",
    "        r = requests.get(url)\n",
    "        # print r.text\n",
    "        return r.text\n",
    "\n",
    "    def getRelatedCuis(self, cui, cuis):\n",
    "        print(\"searching for cui...\"+cui)\n",
    "        cui_search_response_string = self.cuiSearch(cui)\n",
    "        cui_search_response_json = json.loads(cui_search_response_string)\n",
    "        # print(cui_search_response_json)\n",
    "\n",
    "        ticket = self.getSingleTicket()\n",
    "        relation_url = cui_search_response_json['result']['relations'] + \"?/pageSize=1000&ticket={0}\".format(ticket)\n",
    "        # print(relation_url)\n",
    "        relation_response_str = requests.get(relation_url).text\n",
    "        Relation_response = json.loads(relation_response_str)\n",
    "\n",
    "        cuis[cui] = cui_search_response_json['result']['name']\n",
    "        \n",
    "        for conceptRelation in relation_response['result']:\n",
    "            if conceptRelation['relationLabel'] == 'RB':\n",
    "                relatedCui = conceptRelation['relatedId'].rsplit('/', 1)[-1]                    \n",
    "                print(\"recursing on ..\"+relatedCui)\n",
    "                subcuis = self.getRelatedCuis(relatedCui, cuis)\n",
    "                cuis = {**cuis,**subcuis}\n",
    "        return cuis"
   ]
  },
  {
   "cell_type": "code",
   "execution_count": 103,
   "metadata": {},
   "outputs": [],
   "source": [
    "Umlsapi = UmlsApi(\"harryhoch\", \"pudwallF00bar45\")\n",
    "cuis = {}\n",
    "umlsApi.getRelatedCuis(\"C0015967\", cuis)"
   ]
  },
  {
   "cell_type": "code",
   "execution_count": 104,
   "metadata": {},
   "outputs": [
    {
     "data": {
      "text/plain": [
       "{'C1852577': 'FEBRILE CONVULSIONS, FAMILIAL, 1 (disorder)',\n",
       " 'C1858493': 'FEBRILE CONVULSIONS, FAMILIAL, 4',\n",
       " 'C1865342': 'FEBRILE CONVULSIONS, FAMILIAL, 2 (disorder)',\n",
       " 'C0030612': 'Animal Milk Fever',\n",
       " 'C0031069': 'Familial Mediterranean Fever',\n",
       " 'C0235839': 'Fever of the newborn',\n",
       " 'C0239572': 'extreme fever',\n",
       " 'C0239573': 'Fever, high-grade',\n",
       " 'C2199828': 'low-grade fever (99-101 degrees Fahrenheit)',\n",
       " 'C0856281': 'Pyrexia of unknown origin (excl puerperal)',\n",
       " 'C0864638': 'Cerebrospinal fever',\n",
       " 'C1320835': 'Drug-induced hyperpyrexia',\n",
       " 'C1856788': 'Fever, Familial Lifelong Persistent'}"
      ]
     },
     "execution_count": 104,
     "metadata": {},
     "output_type": "execute_result"
    }
   ],
   "source": [
    "cuis"
   ]
  },
  {
   "cell_type": "markdown",
   "metadata": {},
   "source": [
    "why am i not seeing \n",
    "\n",
    "RB |  | MTH | Febrile Convulsions | C0009952????"
   ]
  },
  {
   "cell_type": "code",
   "execution_count": 106,
   "metadata": {},
   "outputs": [],
   "source": [
    "def getTgT():\n",
    "    data = {'username': 'harryhoch', 'password': 'pudwallF00bar45'}\n",
    "    r = requests.post('https://utslogin.nlm.nih.gov/cas/v1/tickets', data)\n",
    "    return r.headers['location'].rsplit('/', 1)[-1]"
   ]
  },
  {
   "cell_type": "code",
   "execution_count": 107,
   "metadata": {},
   "outputs": [],
   "source": [
    "granting_ticket=getTgT()"
   ]
  },
  {
   "cell_type": "code",
   "execution_count": 124,
   "metadata": {},
   "outputs": [],
   "source": [
    "ticket = getSingleTicket(granting_ticket)"
   ]
  },
  {
   "cell_type": "code",
   "execution_count": 111,
   "metadata": {},
   "outputs": [],
   "source": [
    "def cuiSearch(ticket, cui):\n",
    "    url = \"https://uts-ws.nlm.nih.gov/rest/content/current/CUI/{1}?ticket={0}\".format(ticket, cui)\n",
    "    r = requests.get(url)\n",
    "    return r.text"
   ]
  },
  {
   "cell_type": "code",
   "execution_count": 125,
   "metadata": {},
   "outputs": [],
   "source": [
    "searchResponse=cuiSearch(ticket,'C0015967')"
   ]
  },
  {
   "cell_type": "code",
   "execution_count": 126,
   "metadata": {},
   "outputs": [],
   "source": [
    "csr_json=json.loads(searchResponse)"
   ]
  },
  {
   "cell_type": "code",
   "execution_count": 127,
   "metadata": {},
   "outputs": [
    {
     "data": {
      "text/plain": [
       "{'pageSize': 25,\n",
       " 'pageNumber': 1,\n",
       " 'pageCount': 1,\n",
       " 'result': {'classType': 'Concept',\n",
       "  'ui': 'C0015967',\n",
       "  'suppressible': False,\n",
       "  'dateAdded': '09-30-1990',\n",
       "  'majorRevisionDate': '05-20-2019',\n",
       "  'status': 'R',\n",
       "  'semanticTypes': [{'name': 'Sign or Symptom',\n",
       "    'uri': 'https://uts-ws.nlm.nih.gov/rest/semantic-network/2019AB/TUI/T184'}],\n",
       "  'atomCount': 470,\n",
       "  'attributeCount': 0,\n",
       "  'cvMemberCount': 0,\n",
       "  'atoms': 'https://uts-ws.nlm.nih.gov/rest/content/2019AB/CUI/C0015967/atoms',\n",
       "  'definitions': 'https://uts-ws.nlm.nih.gov/rest/content/2019AB/CUI/C0015967/definitions',\n",
       "  'relations': 'https://uts-ws.nlm.nih.gov/rest/content/2019AB/CUI/C0015967/relations',\n",
       "  'defaultPreferredAtom': 'https://uts-ws.nlm.nih.gov/rest/content/2019AB/CUI/C0015967/atoms/preferred',\n",
       "  'relationCount': 34,\n",
       "  'name': 'Fever'}}"
      ]
     },
     "execution_count": 127,
     "metadata": {},
     "output_type": "execute_result"
    }
   ],
   "source": [
    "csr_json"
   ]
  },
  {
   "cell_type": "code",
   "execution_count": 128,
   "metadata": {},
   "outputs": [],
   "source": [
    "cuis={}"
   ]
  },
  {
   "cell_type": "code",
   "execution_count": 129,
   "metadata": {},
   "outputs": [
    {
     "data": {
      "text/plain": [
       "'Fever'"
      ]
     },
     "execution_count": 129,
     "metadata": {},
     "output_type": "execute_result"
    }
   ],
   "source": [
    "csr_json['result']['name']"
   ]
  },
  {
   "cell_type": "code",
   "execution_count": 130,
   "metadata": {},
   "outputs": [],
   "source": [
    "cuis['C0015967']=csr_json['result']['name']"
   ]
  },
  {
   "cell_type": "code",
   "execution_count": 135,
   "metadata": {},
   "outputs": [],
   "source": [
    "ticket =getSingleTicket(granting_ticket)\n",
    "relation_url = csr_json['result']['relations'] + \"?/pageSize=1000&ticket={0}\".format(ticket)\n",
    "        # print(relation_url)\n",
    "relation_response_str = requests.get(relation_url).text\n",
    "Relation_response = json.loads(relation_response_str)"
   ]
  },
  {
   "cell_type": "code",
   "execution_count": 140,
   "metadata": {},
   "outputs": [],
   "source": [
    "rr= Relation_response['result'][0]"
   ]
  },
  {
   "cell_type": "code",
   "execution_count": 141,
   "metadata": {},
   "outputs": [
    {
     "data": {
      "text/plain": [
       "{'classType': 'ConceptRelation',\n",
       " 'ui': 'R43968210',\n",
       " 'suppressible': False,\n",
       " 'sourceUi': 'NONE',\n",
       " 'obsolete': False,\n",
       " 'sourceOriginated': False,\n",
       " 'rootSource': 'MTH',\n",
       " 'relationLabel': 'RB',\n",
       " 'additionalRelationLabel': '',\n",
       " 'groupId': 'NONE',\n",
       " 'attributeCount': 0,\n",
       " 'relatedId': 'https://uts-ws.nlm.nih.gov/rest/content/2019AB/CUI/C0009952',\n",
       " 'relatedIdName': 'Febrile Convulsions'}"
      ]
     },
     "execution_count": 141,
     "metadata": {},
     "output_type": "execute_result"
    }
   ],
   "source": [
    "rr"
   ]
  },
  {
   "cell_type": "code",
   "execution_count": 142,
   "metadata": {},
   "outputs": [
    {
     "name": "stdout",
     "output_type": "stream",
     "text": [
      "recursing on ..C0009952\n"
     ]
    }
   ],
   "source": [
    "relatedCui = rr['relatedId'].rsplit('/', 1)[-1]                    \n",
    "print(\"recursing on ..\"+relatedCui)\n"
   ]
  },
  {
   "cell_type": "code",
   "execution_count": 150,
   "metadata": {},
   "outputs": [],
   "source": [
    "def getRelatedCuis(granting_ticket, cui):\n",
    "    cuis={}\n",
    "    cui_search_response_string = cuiSearch(cui)\n",
    "    cui_search_response_json = json.loads(cui_search_response_string)\n",
    "     # print(cui_search_response_json)\n",
    "    cuis[cui] = cui_search_response_json['result']['name']\n",
    "    ticket = getSingleTicket(granting_ticket)\n",
    "    \n",
    "    relation_url = cui_search_response_json['result']['relations'] + \"?/pageSize=1000&ticket={0}\".format(ticket)\n",
    "     # print(relation_url)\n",
    "    relation_response_str = requests.get(relation_url).text\n",
    "    Relation_response = json.loads(relation_response_str)\n",
    "\n",
    "    for conceptRelation in relation_response['result']:\n",
    "        if conceptRelation['relationLabel'] == 'RB':\n",
    "            relatedCui = conceptRelation['relatedId'].rsplit('/', 1)[-1]                    \n",
    "            print(\"recursing on ..\"+relatedCui)\n",
    "            subcuis = getRelatedCuis(relatedCui)\n",
    "            cuis = {**cuis,**subcuis}\n",
    "    return cuis\n"
   ]
  },
  {
   "cell_type": "code",
   "execution_count": 149,
   "metadata": {},
   "outputs": [
    {
     "ename": "NameError",
     "evalue": "name 'self' is not defined",
     "output_type": "error",
     "traceback": [
      "\u001b[0;31m---------------------------------------------------------------------------\u001b[0m",
      "\u001b[0;31mNameError\u001b[0m                                 Traceback (most recent call last)",
      "\u001b[0;32m<ipython-input-149-2a6c458387cf>\u001b[0m in \u001b[0;36m<module>\u001b[0;34m\u001b[0m\n\u001b[0;32m----> 1\u001b[0;31m \u001b[0msubcuis\u001b[0m\u001b[0;34m=\u001b[0m\u001b[0mgetRelatedCuis\u001b[0m\u001b[0;34m(\u001b[0m\u001b[0mgranting_ticket\u001b[0m\u001b[0;34m,\u001b[0m\u001b[0;34m'C00099952'\u001b[0m\u001b[0;34m)\u001b[0m\u001b[0;34m\u001b[0m\u001b[0;34m\u001b[0m\u001b[0m\n\u001b[0m",
      "\u001b[0;32m<ipython-input-147-2e0caa9a26bc>\u001b[0m in \u001b[0;36mgetRelatedCuis\u001b[0;34m(granting_ticket, cui)\u001b[0m\n\u001b[1;32m      1\u001b[0m \u001b[0;32mdef\u001b[0m \u001b[0mgetRelatedCuis\u001b[0m\u001b[0;34m(\u001b[0m\u001b[0mgranting_ticket\u001b[0m\u001b[0;34m,\u001b[0m \u001b[0mcui\u001b[0m\u001b[0;34m)\u001b[0m\u001b[0;34m:\u001b[0m\u001b[0;34m\u001b[0m\u001b[0;34m\u001b[0m\u001b[0m\n\u001b[1;32m      2\u001b[0m     \u001b[0mcuis\u001b[0m\u001b[0;34m=\u001b[0m\u001b[0;34m{\u001b[0m\u001b[0;34m}\u001b[0m\u001b[0;34m\u001b[0m\u001b[0;34m\u001b[0m\u001b[0m\n\u001b[0;32m----> 3\u001b[0;31m     \u001b[0mcui_search_response_string\u001b[0m \u001b[0;34m=\u001b[0m \u001b[0mself\u001b[0m\u001b[0;34m.\u001b[0m\u001b[0mcuiSearch\u001b[0m\u001b[0;34m(\u001b[0m\u001b[0mcui\u001b[0m\u001b[0;34m)\u001b[0m\u001b[0;34m\u001b[0m\u001b[0;34m\u001b[0m\u001b[0m\n\u001b[0m\u001b[1;32m      4\u001b[0m     \u001b[0mcui_search_response_json\u001b[0m \u001b[0;34m=\u001b[0m \u001b[0mjson\u001b[0m\u001b[0;34m.\u001b[0m\u001b[0mloads\u001b[0m\u001b[0;34m(\u001b[0m\u001b[0mcui_search_response_string\u001b[0m\u001b[0;34m)\u001b[0m\u001b[0;34m\u001b[0m\u001b[0;34m\u001b[0m\u001b[0m\n\u001b[1;32m      5\u001b[0m      \u001b[0;31m# print(cui_search_response_json)\u001b[0m\u001b[0;34m\u001b[0m\u001b[0;34m\u001b[0m\u001b[0;34m\u001b[0m\u001b[0m\n",
      "\u001b[0;31mNameError\u001b[0m: name 'self' is not defined"
     ]
    }
   ],
   "source": [
    "\n",
    "subcuis=getRelatedCuis(granting_ticket,'C00099952')"
   ]
  },
  {
   "cell_type": "code",
   "execution_count": null,
   "metadata": {},
   "outputs": [],
   "source": []
  }
 ],
 "metadata": {
  "kernelspec": {
   "display_name": "Python 3",
   "language": "python",
   "name": "python3"
  },
  "language_info": {
   "codemirror_mode": {
    "name": "ipython",
    "version": 3
   },
   "file_extension": ".py",
   "mimetype": "text/x-python",
   "name": "python",
   "nbconvert_exporter": "python",
   "pygments_lexer": "ipython3",
   "version": "3.6.8"
  }
 },
 "nbformat": 4,
 "nbformat_minor": 2
}
